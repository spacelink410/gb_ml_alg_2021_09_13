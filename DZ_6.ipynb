{
  "nbformat": 4,
  "nbformat_minor": 0,
  "metadata": {
    "colab": {
      "name": "DZ_6.ipynb",
      "provenance": [],
      "collapsed_sections": []
    },
    "kernelspec": {
      "name": "python3",
      "display_name": "Python 3"
    },
    "language_info": {
      "name": "python"
    }
  },
  "cells": [
    {
      "cell_type": "markdown",
      "metadata": {
        "id": "ODrX5cc1xyCv"
      },
      "source": [
        "# Урок 6. Градиентный бустинг (AdaBoost)"
      ]
    },
    {
      "cell_type": "markdown",
      "metadata": {
        "id": "wqfrTo1AgStI"
      },
      "source": [
        "## Задание 1: Для реализованной в методичке модели градиентного бустинга построить графики зависимости ошибки от количества деревьев в ансамбле и от максимальной глубины деревьев. Сделать выводы о зависимости ошибки от этих параметров."
      ]
    },
    {
      "cell_type": "code",
      "metadata": {
        "id": "cQjAcwNWxYRY"
      },
      "source": [
        "# подключим необходимые библиотеки\n",
        "\n",
        "from sklearn.tree import DecisionTreeRegressor\n",
        "from sklearn import model_selection\n",
        "from sklearn.datasets import load_diabetes\n",
        "import matplotlib.pyplot as plt\n",
        "\n",
        "import numpy as np\n",
        "\n",
        "X, y = load_diabetes(return_X_y=True)\n",
        "X_train, X_test, y_train, y_test = model_selection.train_test_split(X, y, test_size=0.25)\n"
      ],
      "execution_count": 1,
      "outputs": []
    },
    {
      "cell_type": "code",
      "metadata": {
        "id": "tl8g76k4oqUA"
      },
      "source": [
        "def gb_predict(X, trees_list, coef_list, eta):\n",
        "    # Реализуемый алгоритм градиентного бустинга будет инициализироваться нулевыми значениями,\n",
        "    # поэтому все деревья из списка trees_list уже являются дополнительными и при предсказании прибавляются с шагом eta\n",
        "    #return np.array([sum([eta* coef * alg.predict([x])[0] for alg, coef in zip(trees_list, coef_list)]) for x in X])\n",
        "    return np.sum([eta* coef * alg.predict(X) for alg, coef in zip(trees_list, coef_list)], axis=0)\n",
        "\n",
        "\n",
        "def mean_squared_error(y_real, prediction):\n",
        "    return (sum((y_real - prediction)**2)) / len(y_real)\n",
        "\n",
        "\n",
        "def bias(y, z):\n",
        "    return (y - z)\n",
        "\n",
        "\n",
        "def gb_fit(n_trees, max_depth, X_train, X_test, y_train, y_test, coefs, eta):\n",
        "    \n",
        "    # Деревья будем записывать в список\n",
        "    trees = []\n",
        "    \n",
        "    # Будем записывать ошибки на обучающей и тестовой выборке на каждой итерации в список\n",
        "    train_errors = []\n",
        "    test_errors = []\n",
        "    \n",
        "    for i in range(n_trees):\n",
        "        tree = DecisionTreeRegressor(max_depth=max_depth, random_state=42)\n",
        "\n",
        "        # инициализируем бустинг начальным алгоритмом, возвращающим ноль, \n",
        "        # поэтому первый алгоритм просто обучаем на выборке и добавляем в список\n",
        "        if len(trees) == 0:\n",
        "            # обучаем первое дерево на обучающей выборке\n",
        "            tree.fit(X_train, y_train)\n",
        "            \n",
        "            train_errors.append(mean_squared_error(y_train, gb_predict(X_train, trees, coefs, eta)))\n",
        "            test_errors.append(mean_squared_error(y_test, gb_predict(X_test, trees, coefs, eta)))\n",
        "        else:\n",
        "            # Получим ответы на текущей композиции\n",
        "            target = gb_predict(X_train, trees, coefs, eta)\n",
        "            \n",
        "            # алгоритмы начиная со второго обучаем на сдвиг\n",
        "            tree.fit(X_train, bias(y_train, target))\n",
        "            \n",
        "            train_errors.append(mean_squared_error(y_train, gb_predict(X_train, trees, coefs, eta)))\n",
        "            test_errors.append(mean_squared_error(y_test, gb_predict(X_test, trees, coefs, eta)))\n",
        "\n",
        "        trees.append(tree)\n",
        "        \n",
        "    return trees, train_errors, test_errors\n",
        "\n",
        "\n",
        "def evaluate_alg(X_train, X_test, y_train, y_test, trees, coefs, eta, max_depth, n_trees):\n",
        "    train_prediction = gb_predict(X_train, trees, coefs, eta)\n",
        "\n",
        "    print(f'Ошибка алгоритма из {n_trees} деревьев глубиной {max_depth} \\\n",
        "    с шагом {eta} на тренировочной выборке: {mean_squared_error(y_train, train_prediction)}')\n",
        "\n",
        "    test_prediction = gb_predict(X_test, trees, coefs, eta)\n",
        "\n",
        "    print(f'Ошибка алгоритма из {n_trees} деревьев глубиной {max_depth} \\\n",
        "    с шагом {eta} на тестовой выборке: {mean_squared_error(y_test, test_prediction)}')\n",
        "\n",
        "    return mean_squared_error(y_train, train_prediction), mean_squared_error(y_test, test_prediction)\n",
        "\n",
        "\n",
        "def get_error_plot(n_trees, train_err, test_err):\n",
        "    plt.xlabel('Iteration number')\n",
        "    plt.ylabel('MSE')\n",
        "    plt.xlim(0, n_trees)\n",
        "    plt.plot(list(range(n_trees)), train_err, label='train error')\n",
        "    plt.plot(list(range(n_trees)), test_err, label='test error')\n",
        "    plt.legend(loc='upper right')\n",
        "    plt.show()\n",
        "\n",
        "\n",
        "# напишем функцию для построения массивов ошибок\n",
        "def fit_to_errors(list_trees, list_depth):\n",
        "    for i in range(len(list_trees)):\n",
        "        trees, train_errors, test_errors = gb_fit(list_trees[i], list_depth[i], X_train, X_test, y_train, y_test, coefs, eta)\n",
        "        train_errors, test_errors = evaluate_alg(X_train, X_test, y_train, y_test, trees, coefs, eta, list_depth[i], list_trees[i])\n",
        "        list_errors_trees_test.append(test_errors)\n",
        "        list_errors_trees_train.append(train_errors)\n",
        "    return list_errors_trees_test, list_errors_trees_train\n",
        "\n",
        "\n",
        "# напишем функцию для построения массивов ошибок на всех параметрах\n",
        "def fit_to_errors_all(list_trees, list_depth):\n",
        "    for i in range(len(list_trees)):\n",
        "        print(f'===============\\n Поиск лучшей метрики на {list_trees[i]} деревьях')\n",
        "        for k in range(len(list_depth)):\n",
        "            trees, train_errors, test_errors = gb_fit(list_trees[i], list_depth[k], X_train, X_test, y_train, y_test, coefs, eta)\n",
        "            train_errors, test_errors = evaluate_alg(X_train, X_test, y_train, y_test, trees, coefs, eta, list_depth[k], list_trees[i])\n",
        "            list_errors_trees_test.append(test_errors)\n",
        "            list_errors_trees_train.append(train_errors)\n",
        "        print('\\n')\n",
        "    return list_errors_trees_test, list_errors_trees_train\n",
        "\n",
        "\n",
        "# перепишем функцию построения графиков\n",
        "def plot_err_log(X_name, X, y_test, y_train):\n",
        "    plt.xlabel(X_name)\n",
        "    plt.ylabel('MSE')\n",
        "    plt.plot(X, y_test, label='test error')\n",
        "    plt.plot(X, y_train, label='train error')\n",
        "    plt.legend(loc='upper right')\n",
        "    plt.xscale('log')\n",
        "    plt.show()"
      ],
      "execution_count": 2,
      "outputs": []
    },
    {
      "cell_type": "code",
      "metadata": {
        "id": "T7nqvyMRo5j-"
      },
      "source": [
        "# Число деревьев в ансамбле\n",
        "n_trees = 10\n",
        "\n",
        "# для простоты примем коэффициенты равными 1\n",
        "coefs = [1] * n_trees\n",
        "\n",
        "# Шаг\n",
        "eta = 0.5\n",
        "\n"
      ],
      "execution_count": 3,
      "outputs": []
    },
    {
      "cell_type": "code",
      "metadata": {
        "colab": {
          "base_uri": "https://localhost:8080/"
        },
        "id": "OB6YOauMXmbq",
        "outputId": "0b31cc40-e5cd-4169-8e48-d4db00e55b94"
      },
      "source": [
        "n_trees_array = [1, 5, 10, 30, 50, 100]\n",
        "n_depth_array = [3, 3, 3, 3, 3, 3]\n",
        "list_errors_trees_train = []\n",
        "list_errors_trees_test = []\n",
        "errors_test, errors_train = fit_to_errors(n_trees_array, n_depth_array)"
      ],
      "execution_count": 4,
      "outputs": [
        {
          "output_type": "stream",
          "name": "stdout",
          "text": [
            "Ошибка алгоритма из 1 деревьев глубиной 3     с шагом 0.5 на тренировочной выборке: 9925.42414342598\n",
            "Ошибка алгоритма из 1 деревьев глубиной 3     с шагом 0.5 на тестовой выборке: 7999.1266050518025\n",
            "Ошибка алгоритма из 5 деревьев глубиной 3     с шагом 0.5 на тренировочной выборке: 2070.535163192589\n",
            "Ошибка алгоритма из 5 деревьев глубиной 3     с шагом 0.5 на тестовой выборке: 3106.307322110515\n",
            "Ошибка алгоритма из 10 деревьев глубиной 3     с шагом 0.5 на тренировочной выборке: 1474.138191200028\n",
            "Ошибка алгоритма из 10 деревьев глубиной 3     с шагом 0.5 на тестовой выборке: 3260.8852919076303\n",
            "Ошибка алгоритма из 30 деревьев глубиной 3     с шагом 0.5 на тренировочной выборке: 1474.138191200028\n",
            "Ошибка алгоритма из 30 деревьев глубиной 3     с шагом 0.5 на тестовой выборке: 3260.8852919076303\n",
            "Ошибка алгоритма из 50 деревьев глубиной 3     с шагом 0.5 на тренировочной выборке: 1474.138191200028\n",
            "Ошибка алгоритма из 50 деревьев глубиной 3     с шагом 0.5 на тестовой выборке: 3260.8852919076303\n",
            "Ошибка алгоритма из 100 деревьев глубиной 3     с шагом 0.5 на тренировочной выборке: 1474.138191200028\n",
            "Ошибка алгоритма из 100 деревьев глубиной 3     с шагом 0.5 на тестовой выборке: 3260.8852919076303\n"
          ]
        }
      ]
    },
    {
      "cell_type": "code",
      "metadata": {
        "colab": {
          "base_uri": "https://localhost:8080/",
          "height": 283
        },
        "id": "5Vu7a0aiZPYD",
        "outputId": "8d9030fb-b65f-42aa-cce3-2470892b1424"
      },
      "source": [
        "plot_err_log('Trees', n_trees_array, errors_test, errors_train)"
      ],
      "execution_count": 5,
      "outputs": [
        {
          "output_type": "display_data",
          "data": {
            "image/png": "[encoded data removed]",
            "text/plain": [
              "<Figure size 432x288 with 1 Axes>"
            ]
          },
          "metadata": {
            "needs_background": "light"
          }
        }
      ]
    },
    {
      "cell_type": "code",
      "metadata": {
        "colab": {
          "base_uri": "https://localhost:8080/"
        },
        "id": "ek1JQ9nVaOrP",
        "outputId": "81dbb812-69c6-4836-f214-dda39ed6b745"
      },
      "source": [
        "n_depth_array = [1, 2, 3, 4, 5, 10, 20, 30, 40]\n",
        "n_trees_array = [5, 5, 5, 5, 5, 5, 5, 5, 5]\n",
        "list_errors_trees_train = []\n",
        "list_errors_trees_test = []\n",
        "errors_test, errors_train = fit_to_errors(n_trees_array, n_depth_array)"
      ],
      "execution_count": 6,
      "outputs": [
        {
          "output_type": "stream",
          "name": "stdout",
          "text": [
            "Ошибка алгоритма из 5 деревьев глубиной 1     с шагом 0.5 на тренировочной выборке: 3213.8727760366282\n",
            "Ошибка алгоритма из 5 деревьев глубиной 1     с шагом 0.5 на тестовой выборке: 2897.06743824756\n",
            "Ошибка алгоритма из 5 деревьев глубиной 2     с шагом 0.5 на тренировочной выборке: 2659.0551730674424\n",
            "Ошибка алгоритма из 5 деревьев глубиной 2     с шагом 0.5 на тестовой выборке: 2929.449789118365\n",
            "Ошибка алгоритма из 5 деревьев глубиной 3     с шагом 0.5 на тренировочной выборке: 2070.535163192589\n",
            "Ошибка алгоритма из 5 деревьев глубиной 3     с шагом 0.5 на тестовой выборке: 3106.307322110515\n",
            "Ошибка алгоритма из 5 деревьев глубиной 4     с шагом 0.5 на тренировочной выборке: 1429.036922134387\n",
            "Ошибка алгоритма из 5 деревьев глубиной 4     с шагом 0.5 на тестовой выборке: 3242.0624462008036\n",
            "Ошибка алгоритма из 5 деревьев глубиной 5     с шагом 0.5 на тренировочной выборке: 752.4660671049112\n",
            "Ошибка алгоритма из 5 деревьев глубиной 5     с шагом 0.5 на тестовой выборке: 3477.061211558593\n",
            "Ошибка алгоритма из 5 деревьев глубиной 10     с шагом 0.5 на тренировочной выборке: 39.720588687418264\n",
            "Ошибка алгоритма из 5 деревьев глубиной 10     с шагом 0.5 на тестовой выборке: 4308.468217310987\n",
            "Ошибка алгоритма из 5 деревьев глубиной 20     с шагом 0.5 на тренировочной выборке: 30.113296001699396\n",
            "Ошибка алгоритма из 5 деревьев глубиной 20     с шагом 0.5 на тестовой выборке: 4870.268378730293\n",
            "Ошибка алгоритма из 5 деревьев глубиной 30     с шагом 0.5 на тренировочной выборке: 30.113296001699396\n",
            "Ошибка алгоритма из 5 деревьев глубиной 30     с шагом 0.5 на тестовой выборке: 4870.268378730293\n",
            "Ошибка алгоритма из 5 деревьев глубиной 40     с шагом 0.5 на тренировочной выборке: 30.113296001699396\n",
            "Ошибка алгоритма из 5 деревьев глубиной 40     с шагом 0.5 на тестовой выборке: 4870.268378730293\n"
          ]
        }
      ]
    },
    {
      "cell_type": "code",
      "metadata": {
        "colab": {
          "base_uri": "https://localhost:8080/",
          "height": 283
        },
        "id": "Xa9zb31x0nNo",
        "outputId": "f55ebc48-936a-4fbe-92de-21ab2a9f6c0c"
      },
      "source": [
        "plot_err_log('Depth', n_depth_array, errors_test, errors_train)"
      ],
      "execution_count": 7,
      "outputs": [
        {
          "output_type": "display_data",
          "data": {
            "image/png": "[encoded data removed]",
            "text/plain": [
              "<Figure size 432x288 with 1 Axes>"
            ]
          },
          "metadata": {
            "needs_background": "light"
          }
        }
      ]
    },
    {
      "cell_type": "markdown",
      "metadata": {
        "id": "S6wWDqfvjH27"
      },
      "source": [
        "Видим, что лучшие показатели были достигнуты на 5 деревьях с глубиной 3. При этом, чем больше деревьев, тем больше переобучение и хуже метрика на тесте.\n",
        "\n",
        "С другой стороны видим хорошую метрику на 5 деревьях с глубиной 2. Где переобучение минимальное, а метрика на тестовой выборке не далеко уходит от тренировочной.\n",
        "\n",
        "Поэтому попробуем подобрать на разном количестве деревьев с разной глубиной"
      ]
    },
    {
      "cell_type": "code",
      "metadata": {
        "colab": {
          "base_uri": "https://localhost:8080/"
        },
        "id": "847GmS1Vhm-h",
        "outputId": "ef29bf95-f840-4a51-a54d-6808cad61a66"
      },
      "source": [
        "n_depth_array = [1, 2, 3, 4, 5, 10, 20, 30, 40]\n",
        "n_trees_array = [1, 5, 10, 30, 50, 100]\n",
        "list_errors_trees_train = []\n",
        "list_errors_trees_test = []\n",
        "\n",
        "fit_to_errors_all(n_trees_array, n_depth_array)"
      ],
      "execution_count": 8,
      "outputs": [
        {
          "output_type": "stream",
          "name": "stdout",
          "text": [
            "===============\n",
            " Поиск лучшей метрики на 1 деревьях\n",
            "Ошибка алгоритма из 1 деревьев глубиной 1     с шагом 0.5 на тренировочной выборке: 10972.964432245639\n",
            "Ошибка алгоритма из 1 деревьев глубиной 1     с шагом 0.5 на тестовой выборке: 8530.800671369443\n",
            "Ошибка алгоритма из 1 деревьев глубиной 2     с шагом 0.5 на тренировочной выборке: 10304.728436970525\n",
            "Ошибка алгоритма из 1 деревьев глубиной 2     с шагом 0.5 на тестовой выборке: 7927.638047698497\n",
            "Ошибка алгоритма из 1 деревьев глубиной 3     с шагом 0.5 на тренировочной выборке: 9925.42414342598\n",
            "Ошибка алгоритма из 1 деревьев глубиной 3     с шагом 0.5 на тестовой выборке: 7999.1266050518025\n",
            "Ошибка алгоритма из 1 деревьев глубиной 4     с шагом 0.5 на тренировочной выборке: 9522.511814316884\n",
            "Ошибка алгоритма из 1 деревьев глубиной 4     с шагом 0.5 на тестовой выборке: 7828.442635502801\n",
            "Ошибка алгоритма из 1 деревьев глубиной 5     с шагом 0.5 на тренировочной выборке: 9025.996629443345\n",
            "Ошибка алгоритма из 1 деревьев глубиной 5     с шагом 0.5 на тестовой выборке: 8162.105748007819\n",
            "Ошибка алгоритма из 1 деревьев глубиной 10     с шагом 0.5 на тренировочной выборке: 7835.916323128031\n",
            "Ошибка алгоритма из 1 деревьев глубиной 10     с шагом 0.5 на тестовой выборке: 8270.62238105886\n",
            "Ошибка алгоритма из 1 деревьев глубиной 20     с шагом 0.5 на тренировочной выборке: 7709.003776435045\n",
            "Ошибка алгоритма из 1 деревьев глубиной 20     с шагом 0.5 на тестовой выборке: 8309.92117117117\n",
            "Ошибка алгоритма из 1 деревьев глубиной 30     с шагом 0.5 на тренировочной выборке: 7709.003776435045\n",
            "Ошибка алгоритма из 1 деревьев глубиной 30     с шагом 0.5 на тестовой выборке: 8309.92117117117\n",
            "Ошибка алгоритма из 1 деревьев глубиной 40     с шагом 0.5 на тренировочной выборке: 7709.003776435045\n",
            "Ошибка алгоритма из 1 деревьев глубиной 40     с шагом 0.5 на тестовой выборке: 8309.92117117117\n",
            "\n",
            "\n",
            "===============\n",
            " Поиск лучшей метрики на 5 деревьях\n",
            "Ошибка алгоритма из 5 деревьев глубиной 1     с шагом 0.5 на тренировочной выборке: 3213.8727760366282\n",
            "Ошибка алгоритма из 5 деревьев глубиной 1     с шагом 0.5 на тестовой выборке: 2897.06743824756\n",
            "Ошибка алгоритма из 5 деревьев глубиной 2     с шагом 0.5 на тренировочной выборке: 2659.0551730674424\n",
            "Ошибка алгоритма из 5 деревьев глубиной 2     с шагом 0.5 на тестовой выборке: 2929.449789118365\n",
            "Ошибка алгоритма из 5 деревьев глубиной 3     с шагом 0.5 на тренировочной выборке: 2070.535163192589\n",
            "Ошибка алгоритма из 5 деревьев глубиной 3     с шагом 0.5 на тестовой выборке: 3106.307322110515\n",
            "Ошибка алгоритма из 5 деревьев глубиной 4     с шагом 0.5 на тренировочной выборке: 1429.036922134387\n",
            "Ошибка алгоритма из 5 деревьев глубиной 4     с шагом 0.5 на тестовой выборке: 3242.0624462008036\n",
            "Ошибка алгоритма из 5 деревьев глубиной 5     с шагом 0.5 на тренировочной выборке: 752.4660671049112\n",
            "Ошибка алгоритма из 5 деревьев глубиной 5     с шагом 0.5 на тестовой выборке: 3477.061211558593\n",
            "Ошибка алгоритма из 5 деревьев глубиной 10     с шагом 0.5 на тренировочной выборке: 39.720588687418264\n",
            "Ошибка алгоритма из 5 деревьев глубиной 10     с шагом 0.5 на тестовой выборке: 4308.468217310987\n",
            "Ошибка алгоритма из 5 деревьев глубиной 20     с шагом 0.5 на тренировочной выборке: 30.113296001699396\n",
            "Ошибка алгоритма из 5 деревьев глубиной 20     с шагом 0.5 на тестовой выборке: 4870.268378730293\n",
            "Ошибка алгоритма из 5 деревьев глубиной 30     с шагом 0.5 на тренировочной выборке: 30.113296001699396\n",
            "Ошибка алгоритма из 5 деревьев глубиной 30     с шагом 0.5 на тестовой выборке: 4870.268378730293\n",
            "Ошибка алгоритма из 5 деревьев глубиной 40     с шагом 0.5 на тренировочной выборке: 30.113296001699396\n",
            "Ошибка алгоритма из 5 деревьев глубиной 40     с шагом 0.5 на тестовой выборке: 4870.268378730293\n",
            "\n",
            "\n",
            "===============\n",
            " Поиск лучшей метрики на 10 деревьях\n",
            "Ошибка алгоритма из 10 деревьев глубиной 1     с шагом 0.5 на тренировочной выборке: 2841.745165195705\n",
            "Ошибка алгоритма из 10 деревьев глубиной 1     с шагом 0.5 на тестовой выборке: 2841.1477560437697\n",
            "Ошибка алгоритма из 10 деревьев глубиной 2     с шагом 0.5 на тренировочной выборке: 2141.2590411261895\n",
            "Ошибка алгоритма из 10 деревьев глубиной 2     с шагом 0.5 на тестовой выборке: 2960.8556536923907\n",
            "Ошибка алгоритма из 10 деревьев глубиной 3     с шагом 0.5 на тренировочной выборке: 1474.138191200028\n",
            "Ошибка алгоритма из 10 деревьев глубиной 3     с шагом 0.5 на тестовой выборке: 3260.8852919076303\n",
            "Ошибка алгоритма из 10 деревьев глубиной 4     с шагом 0.5 на тренировочной выборке: 750.4525010647104\n",
            "Ошибка алгоритма из 10 деревьев глубиной 4     с шагом 0.5 на тестовой выборке: 3498.816047930237\n",
            "Ошибка алгоритма из 10 деревьев глубиной 5     с шагом 0.5 на тренировочной выборке: 264.13582686320166\n",
            "Ошибка алгоритма из 10 деревьев глубиной 5     с шагом 0.5 на тестовой выборке: 3720.012857471281\n",
            "Ошибка алгоритма из 10 деревьев глубиной 10     с шагом 0.5 на тренировочной выборке: 0.11502507229971559\n",
            "Ошибка алгоритма из 10 деревьев глубиной 10     с шагом 0.5 на тестовой выборке: 4448.771952718852\n",
            "Ошибка алгоритма из 10 деревьев глубиной 20     с шагом 0.5 на тренировочной выборке: 0.029407515626659567\n",
            "Ошибка алгоритма из 10 деревьев глубиной 20     с шагом 0.5 на тестовой выборке: 5017.486858548345\n",
            "Ошибка алгоритма из 10 деревьев глубиной 30     с шагом 0.5 на тренировочной выборке: 0.029407515626659567\n",
            "Ошибка алгоритма из 10 деревьев глубиной 30     с шагом 0.5 на тестовой выборке: 5017.486858548345\n",
            "Ошибка алгоритма из 10 деревьев глубиной 40     с шагом 0.5 на тренировочной выборке: 0.029407515626659567\n",
            "Ошибка алгоритма из 10 деревьев глубиной 40     с шагом 0.5 на тестовой выборке: 5017.486858548345\n",
            "\n",
            "\n",
            "===============\n",
            " Поиск лучшей метрики на 30 деревьях\n",
            "Ошибка алгоритма из 30 деревьев глубиной 1     с шагом 0.5 на тренировочной выборке: 2841.745165195705\n",
            "Ошибка алгоритма из 30 деревьев глубиной 1     с шагом 0.5 на тестовой выборке: 2841.1477560437697\n",
            "Ошибка алгоритма из 30 деревьев глубиной 2     с шагом 0.5 на тренировочной выборке: 2141.2590411261895\n",
            "Ошибка алгоритма из 30 деревьев глубиной 2     с шагом 0.5 на тестовой выборке: 2960.8556536923907\n",
            "Ошибка алгоритма из 30 деревьев глубиной 3     с шагом 0.5 на тренировочной выборке: 1474.138191200028\n",
            "Ошибка алгоритма из 30 деревьев глубиной 3     с шагом 0.5 на тестовой выборке: 3260.8852919076303\n",
            "Ошибка алгоритма из 30 деревьев глубиной 4     с шагом 0.5 на тренировочной выборке: 750.4525010647104\n",
            "Ошибка алгоритма из 30 деревьев глубиной 4     с шагом 0.5 на тестовой выборке: 3498.816047930237\n",
            "Ошибка алгоритма из 30 деревьев глубиной 5     с шагом 0.5 на тренировочной выборке: 264.13582686320166\n",
            "Ошибка алгоритма из 30 деревьев глубиной 5     с шагом 0.5 на тестовой выборке: 3720.012857471281\n",
            "Ошибка алгоритма из 30 деревьев глубиной 10     с шагом 0.5 на тренировочной выборке: 0.11502507229971559\n",
            "Ошибка алгоритма из 30 деревьев глубиной 10     с шагом 0.5 на тестовой выборке: 4448.771952718852\n",
            "Ошибка алгоритма из 30 деревьев глубиной 20     с шагом 0.5 на тренировочной выборке: 0.029407515626659567\n",
            "Ошибка алгоритма из 30 деревьев глубиной 20     с шагом 0.5 на тестовой выборке: 5017.486858548345\n",
            "Ошибка алгоритма из 30 деревьев глубиной 30     с шагом 0.5 на тренировочной выборке: 0.029407515626659567\n",
            "Ошибка алгоритма из 30 деревьев глубиной 30     с шагом 0.5 на тестовой выборке: 5017.486858548345\n",
            "Ошибка алгоритма из 30 деревьев глубиной 40     с шагом 0.5 на тренировочной выборке: 0.029407515626659567\n",
            "Ошибка алгоритма из 30 деревьев глубиной 40     с шагом 0.5 на тестовой выборке: 5017.486858548345\n",
            "\n",
            "\n",
            "===============\n",
            " Поиск лучшей метрики на 50 деревьях\n",
            "Ошибка алгоритма из 50 деревьев глубиной 1     с шагом 0.5 на тренировочной выборке: 2841.745165195705\n",
            "Ошибка алгоритма из 50 деревьев глубиной 1     с шагом 0.5 на тестовой выборке: 2841.1477560437697\n",
            "Ошибка алгоритма из 50 деревьев глубиной 2     с шагом 0.5 на тренировочной выборке: 2141.2590411261895\n",
            "Ошибка алгоритма из 50 деревьев глубиной 2     с шагом 0.5 на тестовой выборке: 2960.8556536923907\n",
            "Ошибка алгоритма из 50 деревьев глубиной 3     с шагом 0.5 на тренировочной выборке: 1474.138191200028\n",
            "Ошибка алгоритма из 50 деревьев глубиной 3     с шагом 0.5 на тестовой выборке: 3260.8852919076303\n",
            "Ошибка алгоритма из 50 деревьев глубиной 4     с шагом 0.5 на тренировочной выборке: 750.4525010647104\n",
            "Ошибка алгоритма из 50 деревьев глубиной 4     с шагом 0.5 на тестовой выборке: 3498.816047930237\n",
            "Ошибка алгоритма из 50 деревьев глубиной 5     с шагом 0.5 на тренировочной выборке: 264.13582686320166\n",
            "Ошибка алгоритма из 50 деревьев глубиной 5     с шагом 0.5 на тестовой выборке: 3720.012857471281\n",
            "Ошибка алгоритма из 50 деревьев глубиной 10     с шагом 0.5 на тренировочной выборке: 0.11502507229971559\n",
            "Ошибка алгоритма из 50 деревьев глубиной 10     с шагом 0.5 на тестовой выборке: 4448.771952718852\n",
            "Ошибка алгоритма из 50 деревьев глубиной 20     с шагом 0.5 на тренировочной выборке: 0.029407515626659567\n",
            "Ошибка алгоритма из 50 деревьев глубиной 20     с шагом 0.5 на тестовой выборке: 5017.486858548345\n",
            "Ошибка алгоритма из 50 деревьев глубиной 30     с шагом 0.5 на тренировочной выборке: 0.029407515626659567\n",
            "Ошибка алгоритма из 50 деревьев глубиной 30     с шагом 0.5 на тестовой выборке: 5017.486858548345\n",
            "Ошибка алгоритма из 50 деревьев глубиной 40     с шагом 0.5 на тренировочной выборке: 0.029407515626659567\n",
            "Ошибка алгоритма из 50 деревьев глубиной 40     с шагом 0.5 на тестовой выборке: 5017.486858548345\n",
            "\n",
            "\n",
            "===============\n",
            " Поиск лучшей метрики на 100 деревьях\n",
            "Ошибка алгоритма из 100 деревьев глубиной 1     с шагом 0.5 на тренировочной выборке: 2841.745165195705\n",
            "Ошибка алгоритма из 100 деревьев глубиной 1     с шагом 0.5 на тестовой выборке: 2841.1477560437697\n",
            "Ошибка алгоритма из 100 деревьев глубиной 2     с шагом 0.5 на тренировочной выборке: 2141.2590411261895\n",
            "Ошибка алгоритма из 100 деревьев глубиной 2     с шагом 0.5 на тестовой выборке: 2960.8556536923907\n",
            "Ошибка алгоритма из 100 деревьев глубиной 3     с шагом 0.5 на тренировочной выборке: 1474.138191200028\n",
            "Ошибка алгоритма из 100 деревьев глубиной 3     с шагом 0.5 на тестовой выборке: 3260.8852919076303\n",
            "Ошибка алгоритма из 100 деревьев глубиной 4     с шагом 0.5 на тренировочной выборке: 750.4525010647104\n",
            "Ошибка алгоритма из 100 деревьев глубиной 4     с шагом 0.5 на тестовой выборке: 3498.816047930237\n",
            "Ошибка алгоритма из 100 деревьев глубиной 5     с шагом 0.5 на тренировочной выборке: 264.13582686320166\n",
            "Ошибка алгоритма из 100 деревьев глубиной 5     с шагом 0.5 на тестовой выборке: 3720.012857471281\n",
            "Ошибка алгоритма из 100 деревьев глубиной 10     с шагом 0.5 на тренировочной выборке: 0.11502507229971559\n",
            "Ошибка алгоритма из 100 деревьев глубиной 10     с шагом 0.5 на тестовой выборке: 4448.771952718852\n",
            "Ошибка алгоритма из 100 деревьев глубиной 20     с шагом 0.5 на тренировочной выборке: 0.029407515626659567\n",
            "Ошибка алгоритма из 100 деревьев глубиной 20     с шагом 0.5 на тестовой выборке: 5017.486858548345\n",
            "Ошибка алгоритма из 100 деревьев глубиной 30     с шагом 0.5 на тренировочной выборке: 0.029407515626659567\n",
            "Ошибка алгоритма из 100 деревьев глубиной 30     с шагом 0.5 на тестовой выборке: 5017.486858548345\n",
            "Ошибка алгоритма из 100 деревьев глубиной 40     с шагом 0.5 на тренировочной выборке: 0.029407515626659567\n",
            "Ошибка алгоритма из 100 деревьев глубиной 40     с шагом 0.5 на тестовой выборке: 5017.486858548345\n",
            "\n",
            "\n"
          ]
        },
        {
          "output_type": "execute_result",
          "data": {
            "text/plain": [
              "([8530.800671369443,\n",
              "  7927.638047698497,\n",
              "  7999.1266050518025,\n",
              "  7828.442635502801,\n",
              "  8162.105748007819,\n",
              "  8270.62238105886,\n",
              "  8309.92117117117,\n",
              "  8309.92117117117,\n",
              "  8309.92117117117,\n",
              "  2897.06743824756,\n",
              "  2929.449789118365,\n",
              "  3106.307322110515,\n",
              "  3242.0624462008036,\n",
              "  3477.061211558593,\n",
              "  4308.468217310987,\n",
              "  4870.268378730293,\n",
              "  4870.268378730293,\n",
              "  4870.268378730293,\n",
              "  2841.1477560437697,\n",
              "  2960.8556536923907,\n",
              "  3260.8852919076303,\n",
              "  3498.816047930237,\n",
              "  3720.012857471281,\n",
              "  4448.771952718852,\n",
              "  5017.486858548345,\n",
              "  5017.486858548345,\n",
              "  5017.486858548345,\n",
              "  2841.1477560437697,\n",
              "  2960.8556536923907,\n",
              "  3260.8852919076303,\n",
              "  3498.816047930237,\n",
              "  3720.012857471281,\n",
              "  4448.771952718852,\n",
              "  5017.486858548345,\n",
              "  5017.486858548345,\n",
              "  5017.486858548345,\n",
              "  2841.1477560437697,\n",
              "  2960.8556536923907,\n",
              "  3260.8852919076303,\n",
              "  3498.816047930237,\n",
              "  3720.012857471281,\n",
              "  4448.771952718852,\n",
              "  5017.486858548345,\n",
              "  5017.486858548345,\n",
              "  5017.486858548345,\n",
              "  2841.1477560437697,\n",
              "  2960.8556536923907,\n",
              "  3260.8852919076303,\n",
              "  3498.816047930237,\n",
              "  3720.012857471281,\n",
              "  4448.771952718852,\n",
              "  5017.486858548345,\n",
              "  5017.486858548345,\n",
              "  5017.486858548345],\n",
              " [10972.964432245639,\n",
              "  10304.728436970525,\n",
              "  9925.42414342598,\n",
              "  9522.511814316884,\n",
              "  9025.996629443345,\n",
              "  7835.916323128031,\n",
              "  7709.003776435045,\n",
              "  7709.003776435045,\n",
              "  7709.003776435045,\n",
              "  3213.8727760366282,\n",
              "  2659.0551730674424,\n",
              "  2070.535163192589,\n",
              "  1429.036922134387,\n",
              "  752.4660671049112,\n",
              "  39.720588687418264,\n",
              "  30.113296001699396,\n",
              "  30.113296001699396,\n",
              "  30.113296001699396,\n",
              "  2841.745165195705,\n",
              "  2141.2590411261895,\n",
              "  1474.138191200028,\n",
              "  750.4525010647104,\n",
              "  264.13582686320166,\n",
              "  0.11502507229971559,\n",
              "  0.029407515626659567,\n",
              "  0.029407515626659567,\n",
              "  0.029407515626659567,\n",
              "  2841.745165195705,\n",
              "  2141.2590411261895,\n",
              "  1474.138191200028,\n",
              "  750.4525010647104,\n",
              "  264.13582686320166,\n",
              "  0.11502507229971559,\n",
              "  0.029407515626659567,\n",
              "  0.029407515626659567,\n",
              "  0.029407515626659567,\n",
              "  2841.745165195705,\n",
              "  2141.2590411261895,\n",
              "  1474.138191200028,\n",
              "  750.4525010647104,\n",
              "  264.13582686320166,\n",
              "  0.11502507229971559,\n",
              "  0.029407515626659567,\n",
              "  0.029407515626659567,\n",
              "  0.029407515626659567,\n",
              "  2841.745165195705,\n",
              "  2141.2590411261895,\n",
              "  1474.138191200028,\n",
              "  750.4525010647104,\n",
              "  264.13582686320166,\n",
              "  0.11502507229971559,\n",
              "  0.029407515626659567,\n",
              "  0.029407515626659567,\n",
              "  0.029407515626659567])"
            ]
          },
          "metadata": {},
          "execution_count": 8
        }
      ]
    },
    {
      "cell_type": "markdown",
      "metadata": {
        "id": "2rm7kQ-i89zK"
      },
      "source": [
        "Видим, что после 10 деревьев и глубиной 1 метрика теста и тренировочная самая лучшая. Это не совсем однозначный результат, чтобы на первом уровне давать лучшую метрику, чем на 2 или 3 уровнях. Но с текущим датасетом имеем то, что есть."
      ]
    }
  ]
}